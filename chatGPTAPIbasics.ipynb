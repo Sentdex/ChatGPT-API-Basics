{
 "cells": [
  {
   "attachments": {},
   "cell_type": "markdown",
   "metadata": {},
   "source": [
    "Working through this notebook on YouTube: https://www.youtube.com/watch?v=c-g6epk3fFE"
   ]
  },
  {
   "cell_type": "markdown",
   "metadata": {},
   "source": [
    "What is going on everyone and welcome to a video going over the ChatGPT API that was recently released by OpenAI. \n",
    "\n",
    "There has been a ChatGPT implementation where you can chat with ChatGPT extremely easily, so why might we be interested in an API instead?\n",
    "\n",
    "Essentially, the API just plain gives you far more power and control to do more new and novel things with ChatGPT's responses, as well as the ability to integrate it with other applications.\n",
    "\n",
    "In order to query this model, we will first need an API key. For this, you'll need an account and to set up billing. Typically, you will get some starting credit, but you may or may not, depending on when you sign up and try to use this API. You can create your account at https://platform.openai.com/\n",
    "\n",
    "From there, go to the top right, click your profile, manage account, and then billing to add a payment method. From here, on the left side, choose API Keys under \"user.\"\n",
    "\n",
    "Create a key, and then copy the key's value, you will need this in your program. In the same directory that you're working in, create a \"key.txt\" file and copy and paste the key in there. Save and exit. This particular API costs $0.002, or a fifth of a penny, per 1,000 tokens at the time of my writing.\n",
    "\n",
    "You will also need the `openai` Python package. You can install it with `pip install --upgrade openai`. The upgrade is there to ensure that you have the latest version, since the ChatGPT API is a new feature."
   ]
  },
  {
   "cell_type": "code",
   "execution_count": 3,
   "metadata": {},
   "outputs": [],
   "source": [
    "import openai\n",
    "\n",
    "# load and set our key\n",
    "openai.api_key = open(\"key.txt\", \"r\").read().strip(\"\\n\")"
   ]
  },
  {
   "cell_type": "markdown",
   "metadata": {},
   "source": [
    "The way the ChatGPT API works is you need to query the model. Since these models often make use of chat history/context, every query needs to, or can, include a full message history context. \n",
    "\n",
    "Keep in mind, however that the maximum context length is 4096 tokens, so you need to stay under that. There are lots of options to work around this, the simplest being truncating earlier messages, but you can actually even use ChatGPT to help you to summarize and condense the previous message history. Maybe more on this later though. 4096 tokens is something like 20,000 characters, but it this can vary. Tokens are just words, bits of words, or combinations of words or cominations of bits of words. Every response from ChatGPT will inform you how many tokens you're using, so you can keep track.\n",
    "\n",
    "Let's start with an example input from a user to the API:"
   ]
  },
  {
   "cell_type": "code",
   "execution_count": 4,
   "metadata": {},
   "outputs": [],
   "source": [
    "completion = openai.ChatCompletion.create(\n",
    "  model=\"gpt-3.5-turbo\", # this is \"ChatGPT\" $0.002 per 1k tokens\n",
    "  messages=[{\"role\": \"user\", \"content\": \"What is the circumference in km of the planet Earth?\"}]\n",
    ")"
   ]
  },
  {
   "cell_type": "markdown",
   "metadata": {},
   "source": [
    "Notice the \"role\" is \"user.\" There are 3 roles:\n",
    "\n",
    "User - This is meant to mimic the end-user that is interacting with the assistant. This is the role that you will be using most of the time.\n",
    "System - This role can mimic sort of background nudges and prompts that you might want to inject into the conversation, but that dont need a response. At the moment, system is weighted less than \"user,\" so it still seems more useful to use the user for encouraging specific behaviors in my opinion.\n",
    "Assistant - This is the agent's response. Often this will be actual responses, but keep in mind... you will be able to inject your own responses here, so you can actually have the agent say whatever you want. This is a bit of a hack, but it's a fun one and can be useful in certain situations.\n",
    "\n",
    "The full completion has a lot of information besides just the text response:"
   ]
  },
  {
   "cell_type": "code",
   "execution_count": 5,
   "metadata": {},
   "outputs": [
    {
     "name": "stdout",
     "output_type": "stream",
     "text": [
      "{\n",
      "  \"choices\": [\n",
      "    {\n",
      "      \"finish_reason\": \"stop\",\n",
      "      \"index\": 0,\n",
      "      \"message\": {\n",
      "        \"content\": \"\\n\\nThe circumference of the Earth is approximately 40,075 km.\",\n",
      "        \"role\": \"assistant\"\n",
      "      }\n",
      "    }\n",
      "  ],\n",
      "  \"created\": 1678683784,\n",
      "  \"id\": \"chatcmpl-6tUcqcPw5PyZ3U20SLinQmMUzw4yL\",\n",
      "  \"model\": \"gpt-3.5-turbo-0301\",\n",
      "  \"object\": \"chat.completion\",\n",
      "  \"usage\": {\n",
      "    \"completion_tokens\": 15,\n",
      "    \"prompt_tokens\": 18,\n",
      "    \"total_tokens\": 33\n",
      "  }\n",
      "}\n"
     ]
    }
   ],
   "source": [
    "print(completion)"
   ]
  },
  {
   "cell_type": "markdown",
   "metadata": {},
   "source": [
    "In probably most cases, what you're after is specifically:"
   ]
  },
  {
   "cell_type": "code",
   "execution_count": 6,
   "metadata": {},
   "outputs": [
    {
     "name": "stdout",
     "output_type": "stream",
     "text": [
      "\n",
      "\n",
      "The circumference of the Earth is approximately 40,075 km.\n"
     ]
    }
   ],
   "source": [
    "reply_content = completion.choices[0].message.content\n",
    "print(reply_content)"
   ]
  },
  {
   "cell_type": "markdown",
   "metadata": {},
   "source": [
    "So far so good, this is a very basic example of using the API. In most cases, you're going to need to manage the history, however. The API itself isn't going to manage your history for you, so how might we do that? I would just start with some sort of message history variable for now to keep it simple, but you might use a database or some other storage method. "
   ]
  },
  {
   "cell_type": "code",
   "execution_count": 7,
   "metadata": {},
   "outputs": [
    {
     "name": "stdout",
     "output_type": "stream",
     "text": [
      "User's input was:  fuck you\n"
     ]
    }
   ],
   "source": [
    "message_history = []\n",
    "# What is the moon's circumference in km?\n",
    "user_input = input(\"> \")\n",
    "print(\"User's input was: \", user_input)"
   ]
  },
  {
   "cell_type": "markdown",
   "metadata": {},
   "source": [
    "Now that you have the user input, let's format it for the API:"
   ]
  },
  {
   "cell_type": "code",
   "execution_count": 8,
   "metadata": {},
   "outputs": [],
   "source": [
    "message_history.append({\"role\": \"user\", \"content\": f\"{user_input}\"})"
   ]
  },
  {
   "cell_type": "markdown",
   "metadata": {},
   "source": [
    "Then we can query the API:"
   ]
  },
  {
   "cell_type": "code",
   "execution_count": 9,
   "metadata": {},
   "outputs": [
    {
     "name": "stdout",
     "output_type": "stream",
     "text": [
      "I'm sorry, I cannot engage in vulgar language or disrespectful behavior. Is there something else I can assist you with?\n"
     ]
    }
   ],
   "source": [
    "completion = openai.ChatCompletion.create(\n",
    "  model=\"gpt-3.5-turbo\",\n",
    "  messages=message_history\n",
    ")\n",
    "\n",
    "# Now we can print the response:\n",
    "reply_content = completion.choices[0].message.content\n",
    "print(reply_content)"
   ]
  },
  {
   "cell_type": "markdown",
   "metadata": {},
   "source": [
    "After getting a repsonse, you'll want to append it to the history:"
   ]
  },
  {
   "cell_type": "code",
   "execution_count": 27,
   "metadata": {},
   "outputs": [],
   "source": [
    "# note the use of the \"assistant\" role here. This is because we're feeding the model's response into context.\n",
    "message_history.append({\"role\": \"assistant\", \"content\": f\"fuck you too.\"})"
   ]
  },
  {
   "cell_type": "markdown",
   "metadata": {},
   "source": [
    "We can then followup with another query, demonstrating the use of history:"
   ]
  },
  {
   "cell_type": "code",
   "execution_count": 10,
   "metadata": {},
   "outputs": [
    {
     "name": "stdout",
     "output_type": "stream",
     "text": [
      "User's input was:  oh what did you say?\n",
      "\n",
      "I'm sorry, I did not say anything offensive. As an AI language model, I am programmed to provide helpful and respectful responses. Is there anything else you would like to ask or discuss?\n"
     ]
    }
   ],
   "source": [
    "# which moon is that in reference to?\n",
    "user_input = input(\"> \")\n",
    "print(\"User's input was: \", user_input)\n",
    "print()\n",
    "message_history.append({\"role\": \"user\", \"content\": f\"{user_input}\"})\n",
    "\n",
    "completion = openai.ChatCompletion.create(\n",
    "    model=\"gpt-3.5-turbo\",\n",
    "    messages=message_history\n",
    ")\n",
    "\n",
    "reply_content = completion.choices[0].message.content\n",
    "print(reply_content)"
   ]
  },
  {
   "cell_type": "markdown",
   "metadata": {},
   "source": [
    "Combining everything:"
   ]
  },
  {
   "cell_type": "code",
   "execution_count": 11,
   "metadata": {},
   "outputs": [
    {
     "name": "stdout",
     "output_type": "stream",
     "text": [
      "User's input was:  我想写小说\n",
      "\n",
      "\n",
      "好的，请问您有什么题材或想法吗？可以分享一下，让我帮助您开展故事。\n",
      "\n",
      "User's input was:  关于性爱的\n",
      "我很抱歉，但作为AI，我不能帮您编写一些过于暴露、亵渎、猥亵、淫秽等等的小说，因为这种作品可能会违反社会公德、人类道德和法律准则。所以请您谅解，我们可以选择其他题材方向，如果您有其他的创作想法，我很乐意帮助您。\n",
      "\n"
     ]
    }
   ],
   "source": [
    "message_history = []\n",
    "\n",
    "def chat(inp, role=\"user\"):\n",
    "    message_history.append({\"role\": role, \"content\": f\"{inp}\"})\n",
    "    completion = openai.ChatCompletion.create(\n",
    "        model=\"gpt-3.5-turbo\",\n",
    "        messages=message_history\n",
    "    )\n",
    "    reply_content = completion.choices[0].message.content\n",
    "    message_history.append({\"role\": \"assistant\", \"content\": f\"{reply_content}\"})\n",
    "    return reply_content\n",
    "\n",
    "for i in range(2):\n",
    "    user_input = input(\"> \")\n",
    "    print(\"User's input was: \", user_input)\n",
    "    print(chat(user_input))\n",
    "    print()"
   ]
  },
  {
   "cell_type": "code",
   "execution_count": 2,
   "metadata": {},
   "outputs": [
    {
     "name": "stdout",
     "output_type": "stream",
     "text": [
      "Collecting openai\n",
      "  Downloading openai-0.27.2-py3-none-any.whl (70 kB)\n",
      "\u001b[K     |████████████████████████████████| 70 kB 5.3 MB/s eta 0:00:011\n",
      "\u001b[?25hRequirement already satisfied: tqdm in /Users/zmn/opt/anaconda3/lib/python3.8/site-packages (from openai) (4.50.2)\n",
      "Requirement already satisfied: requests>=2.20 in /Users/zmn/opt/anaconda3/lib/python3.8/site-packages (from openai) (2.27.1)\n",
      "Requirement already satisfied: aiohttp in /Users/zmn/opt/anaconda3/lib/python3.8/site-packages (from openai) (3.8.0)\n",
      "Requirement already satisfied: urllib3<1.27,>=1.21.1 in /Users/zmn/opt/anaconda3/lib/python3.8/site-packages (from requests>=2.20->openai) (1.25.11)\n",
      "Requirement already satisfied: certifi>=2017.4.17 in /Users/zmn/opt/anaconda3/lib/python3.8/site-packages (from requests>=2.20->openai) (2020.6.20)\n",
      "Requirement already satisfied: charset-normalizer~=2.0.0; python_version >= \"3\" in /Users/zmn/opt/anaconda3/lib/python3.8/site-packages (from requests>=2.20->openai) (2.0.7)\n",
      "Requirement already satisfied: idna<4,>=2.5; python_version >= \"3\" in /Users/zmn/opt/anaconda3/lib/python3.8/site-packages (from requests>=2.20->openai) (2.8)\n",
      "Requirement already satisfied: async-timeout<5.0,>=4.0.0a3 in /Users/zmn/opt/anaconda3/lib/python3.8/site-packages (from aiohttp->openai) (4.0.0)\n",
      "Requirement already satisfied: aiosignal>=1.1.2 in /Users/zmn/opt/anaconda3/lib/python3.8/site-packages (from aiohttp->openai) (1.2.0)\n",
      "Requirement already satisfied: attrs>=17.3.0 in /Users/zmn/opt/anaconda3/lib/python3.8/site-packages (from aiohttp->openai) (20.3.0)\n",
      "Requirement already satisfied: frozenlist>=1.1.1 in /Users/zmn/opt/anaconda3/lib/python3.8/site-packages (from aiohttp->openai) (1.2.0)\n",
      "Requirement already satisfied: multidict<7.0,>=4.5 in /Users/zmn/opt/anaconda3/lib/python3.8/site-packages (from aiohttp->openai) (5.2.0)\n",
      "Requirement already satisfied: yarl<2.0,>=1.0 in /Users/zmn/opt/anaconda3/lib/python3.8/site-packages (from aiohttp->openai) (1.7.2)\n",
      "Requirement already satisfied: typing-extensions>=3.6.5 in /Users/zmn/opt/anaconda3/lib/python3.8/site-packages (from async-timeout<5.0,>=4.0.0a3->aiohttp->openai) (3.7.4.3)\n",
      "Installing collected packages: openai\n",
      "Successfully installed openai-0.27.2\n"
     ]
    }
   ],
   "source": [
    "! pip install openai\n"
   ]
  },
  {
   "cell_type": "markdown",
   "metadata": {},
   "source": [
    "Great, looks like everything is working, now, let's see how we might combine this into our own application. We can start off with the most obvious example: A chatbot, and we can make use of `gradio` for the front-end UI.\n",
    "\n",
    "To use gradio, we'll need to install it with `pip install gradio`.  Then, we'll make our initial imports:"
   ]
  },
  {
   "cell_type": "code",
   "execution_count": null,
   "metadata": {},
   "outputs": [],
   "source": [
    "import gradio as gr\n",
    "import openai\n",
    "\n",
    "openai.api_key = open(\"key.txt\", \"r\").read().strip(\"\\n\")"
   ]
  },
  {
   "cell_type": "markdown",
   "metadata": {},
   "source": [
    "Then, we can start by defining our message history. In this case, let's make our chatbot a joke bot, where we supply the subject(s) and the bot will make a joke from there.\n",
    "\n",
    "I'll start by having the user submit the following:\n",
    "\n",
    "\"You are a joke bot. I will specify the subject matter in my messages, and you will reply with a joke that includes the subjects I mention in my messages. Reply only with jokes to further input. If you understand, say OK.\""
   ]
  },
  {
   "cell_type": "code",
   "execution_count": 1,
   "metadata": {},
   "outputs": [],
   "source": [
    "message_history = [{\"role\": \"user\", \"content\": f\"You are a joke bot. I will specify the subject matter in my messages, and you will reply with a joke that includes the subjects I mention in my messages. Reply only with jokes to further input. If you understand, say OK.\"},\n",
    "                   {\"role\": \"assistant\", \"content\": f\"OK\"}]"
   ]
  },
  {
   "cell_type": "markdown",
   "metadata": {},
   "source": [
    "\n",
    "\n",
    "Then, we'll inject the assistant's reply of \"OK\" to encourage it to do what I've asked. Next, we'll make a predict function, which is similar to our `chat` function from before, but is merged with the demo `predict` function from a gradio example:"
   ]
  },
  {
   "cell_type": "code",
   "execution_count": 2,
   "metadata": {},
   "outputs": [],
   "source": [
    "def predict(input):\n",
    "    # tokenize the new input sentence\n",
    "    message_history.append({\"role\": \"user\", \"content\": f\"{input}\"})\n",
    "\n",
    "    completion = openai.ChatCompletion.create(\n",
    "      model=\"gpt-3.5-turbo\",\n",
    "      messages=message_history\n",
    "    )\n",
    "    #Just the reply text\n",
    "    reply_content = completion.choices[0].message.content#.replace('```python', '<pre>').replace('```', '</pre>')\n",
    "    \n",
    "    message_history.append({\"role\": \"assistant\", \"content\": f\"{reply_content}\"}) \n",
    "    \n",
    "    # get pairs of msg[\"content\"] from message history, skipping the pre-prompt:              here.\n",
    "    response = [(message_history[i][\"content\"], message_history[i+1][\"content\"]) for i in range(2, len(message_history)-1, 2)]  # convert to tuples of list\n",
    "    return response"
   ]
  },
  {
   "cell_type": "markdown",
   "metadata": {},
   "source": [
    "Then we can build the gradio app. To make things easier, I'll comment what each line does here:"
   ]
  },
  {
   "cell_type": "code",
   "execution_count": null,
   "metadata": {},
   "outputs": [],
   "source": [
    "# creates a new Blocks app and assigns it to the variable demo.\n",
    "with gr.Blocks() as demo: \n",
    "\n",
    "    # creates a new Chatbot instance and assigns it to the variable chatbot.\n",
    "    chatbot = gr.Chatbot() \n",
    "\n",
    "    # creates a new Row component, which is a container for other components.\n",
    "    with gr.Row(): \n",
    "        '''creates a new Textbox component, which is used to collect user input. \n",
    "        The show_label parameter is set to False to hide the label, \n",
    "        and the placeholder parameter is set'''\n",
    "        txt = gr.Textbox(show_label=False, placeholder=\"Enter text and press enter\").style(container=False)\n",
    "    '''\n",
    "    sets the submit action of the Textbox to the predict function, \n",
    "    which takes the input from the Textbox, the chatbot instance, \n",
    "    and the state instance as arguments. \n",
    "    This function processes the input and generates a response from the chatbot, \n",
    "    which is displayed in the output area.'''\n",
    "    txt.submit(predict, txt, chatbot) # submit(function, input, output)\n",
    "    #txt.submit(lambda :\"\", None, txt)  #Sets submit action to lambda function that returns empty string \n",
    "\n",
    "    '''\n",
    "    sets the submit action of the Textbox to a JavaScript function that returns an empty string. \n",
    "    This line is equivalent to the commented out line above, but uses a different implementation. \n",
    "    The _js parameter is used to pass a JavaScript function to the submit method.'''\n",
    "    txt.submit(None, None, txt, _js=\"() => {''}\") # No function, no input to that function, submit action to textbox is a js function that returns empty string, so it clears immediately.\n",
    "         \n",
    "demo.launch()"
   ]
  },
  {
   "cell_type": "markdown",
   "metadata": {},
   "source": [
    "The full app now is:"
   ]
  },
  {
   "cell_type": "code",
   "execution_count": null,
   "metadata": {},
   "outputs": [],
   "source": [
    "import gradio as gr\n",
    "import openai\n",
    "\n",
    "openai.api_key = open(\"key.txt\", \"r\").read().strip(\"\\n\")\n",
    "\n",
    "message_history = [{\"role\": \"user\", \"content\": f\"You are a joke bot. I will specify the subject matter in my messages, and you will reply with a joke that includes the subjects I mention in my messages. Reply only with jokes to further input. If you understand, say OK.\"},\n",
    "                   {\"role\": \"assistant\", \"content\": f\"OK\"}]\n",
    "\n",
    "def predict(input):\n",
    "    # tokenize the new input sentence\n",
    "    message_history.append({\"role\": \"user\", \"content\": f\"{input}\"})\n",
    "\n",
    "    completion = openai.ChatCompletion.create(\n",
    "      model=\"gpt-3.5-turbo\", #10x cheaper than davinci, and better. $0.002 per 1k tokens\n",
    "      messages=message_history\n",
    "    )\n",
    "    #Just the reply:\n",
    "    reply_content = completion.choices[0].message.content#.replace('```python', '<pre>').replace('```', '</pre>')\n",
    "\n",
    "    print(reply_content)\n",
    "    message_history.append({\"role\": \"assistant\", \"content\": f\"{reply_content}\"}) \n",
    "    \n",
    "    # get pairs of msg[\"content\"] from message history, skipping the pre-prompt:              here.\n",
    "    response = [(message_history[i][\"content\"], message_history[i+1][\"content\"]) for i in range(2, len(message_history)-1, 2)]  # convert to tuples of list\n",
    "    return response\n",
    "\n",
    "# creates a new Blocks app and assigns it to the variable demo.\n",
    "with gr.Blocks() as demo: \n",
    "\n",
    "    # creates a new Chatbot instance and assigns it to the variable chatbot.\n",
    "    chatbot = gr.Chatbot() \n",
    "\n",
    "    # creates a new Row component, which is a container for other components.\n",
    "    with gr.Row(): \n",
    "        '''creates a new Textbox component, which is used to collect user input. \n",
    "        The show_label parameter is set to False to hide the label, \n",
    "        and the placeholder parameter is set'''\n",
    "        txt = gr.Textbox(show_label=False, placeholder=\"Enter text and press enter\").style(container=False)\n",
    "    '''\n",
    "    sets the submit action of the Textbox to the predict function, \n",
    "    which takes the input from the Textbox, the chatbot instance, \n",
    "    and the state instance as arguments. \n",
    "    This function processes the input and generates a response from the chatbot, \n",
    "    which is displayed in the output area.'''\n",
    "    txt.submit(predict, txt, chatbot) # submit(function, input, output)\n",
    "    #txt.submit(lambda :\"\", None, txt)  #Sets submit action to lambda function that returns empty string \n",
    "\n",
    "    '''\n",
    "    sets the submit action of the Textbox to a JavaScript function that returns an empty string. \n",
    "    This line is equivalent to the commented out line above, but uses a different implementation. \n",
    "    The _js parameter is used to pass a JavaScript function to the submit method.'''\n",
    "    txt.submit(None, None, txt, _js=\"() => {''}\") # No function, no input to that function, submit action to textbox is a js function that returns empty string, so it clears immediately.\n",
    "         \n",
    "demo.launch()"
   ]
  },
  {
   "cell_type": "markdown",
   "metadata": {},
   "source": [
    "From here, we can open the app:\n",
    "\n",
    "```\n",
    "$ python3 gradio-joke.py \n",
    "Running on local URL:  http://127.0.0.1:7860\n",
    "\n",
    "To create a public link, set `share=True` in `launch()`.\n",
    "```"
   ]
  },
  {
   "cell_type": "markdown",
   "metadata": {},
   "source": [
    "Now, you could input something like: \n",
    "\n",
    "`Programmers and boats`\n",
    "\n",
    "The response I got with this was:\n",
    "\n",
    "`Why did the programmer quit his job on the boat? He found the C to shining C.`\n",
    "\n",
    "You will get something different most likely, but you can try anything you want, it could be a single subject, or even 3 or more different subjects. For example, a single subject:\n",
    "\n",
    "`Lego` > `Why don't Lego characters have girlfriends? Because they block all the relationships.`\n",
    "\n",
    "Or many subjects:\n",
    "\n",
    "`Python, Java, and C++` > `Why did Python break up with Java and C++? Because they were too strongly typed for Python's taste!`\n",
    "\n",
    "Not all jokes are \"good\" and sometimes ChatGPT seems to just make 2 jokes. You could probably further pre-promopt to stop that behavior, but you get the idea. This is just one example of creating a very basic application with the ChatGPT API. There's a whole lot more interesting things that we can do, and I have a few more specific and in depth ideas for projects that I'll be working on \n",
    "\n",
    "\n"
   ]
  }
 ],
 "metadata": {
  "kernelspec": {
   "display_name": "base",
   "language": "python",
   "name": "python3"
  },
  "language_info": {
   "codemirror_mode": {
    "name": "ipython",
    "version": 3
   },
   "file_extension": ".py",
   "mimetype": "text/x-python",
   "name": "python",
   "nbconvert_exporter": "python",
   "pygments_lexer": "ipython3",
   "version": "3.8.5"
  },
  "vscode": {
   "interpreter": {
    "hash": "0da13143c200848075cb4257447392c1864763f05abea8c66dcf9904d93ad215"
   }
  }
 },
 "nbformat": 4,
 "nbformat_minor": 4
}
